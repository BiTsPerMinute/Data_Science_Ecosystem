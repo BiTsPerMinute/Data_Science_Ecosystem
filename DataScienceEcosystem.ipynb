{
 "cells": [
  {
   "cell_type": "markdown",
   "id": "147eb423-d191-4bd3-800b-7c260d9c53fd",
   "metadata": {},
   "source": [
    "# Data Science Tools and Ecosystem"
   ]
  },
  {
   "cell_type": "markdown",
   "id": "bd0a0c78-e00c-407c-869c-85e25af99cfe",
   "metadata": {},
   "source": [
    "**_In this notebook, Data Science Tools and Ecosystem are summarized._**"
   ]
  },
  {
   "cell_type": "markdown",
   "id": "6c693dd1-6296-404f-b711-8c22142532c7",
   "metadata": {},
   "source": [
    "__Objectives:__\n",
    "\n",
    "- Data Science programming languages\n",
    "- Common libraries\n",
    "- Data Science tools and environment\n",
    "- Example of a coding cell\n",
    "- Example of a cell with a conversion formula"
   ]
  },
  {
   "cell_type": "markdown",
   "id": "04ce1985-8ac4-469a-a5ef-2318995103a2",
   "metadata": {},
   "source": [
    "**Some of the popular languages that Data Scientists use are:**"
   ]
  },
  {
   "cell_type": "markdown",
   "id": "33f5b1b3-91a2-4533-8f5e-1d21b1c00529",
   "metadata": {},
   "source": [
    "1. Python\n",
    "2. R\n",
    "3. Java\n",
    "4. Julia"
   ]
  },
  {
   "cell_type": "markdown",
   "id": "91e2dfba-db4c-4cbe-a937-379be61bec94",
   "metadata": {},
   "source": [
    "_Some of the commonly used libraries used by Data Scientists include:_"
   ]
  },
  {
   "cell_type": "markdown",
   "id": "432a3ba3-3892-4d8b-91e8-a5c9544ae955",
   "metadata": {},
   "source": [
    "1. Pandas\n",
    "2. Matplotlib\n",
    "3. Numpy\n",
    "4. Seaborn"
   ]
  },
  {
   "cell_type": "markdown",
   "id": "7968639c-cffe-4087-be33-7d1ff96a1443",
   "metadata": {
    "tags": []
   },
   "source": [
    "| Data Science Tools |\n",
    "|--------------------|\n",
    "| Jupyter Notebooks |\n",
    "| Anaconda |\n",
    "|RStudio |\n"
   ]
  },
  {
   "cell_type": "markdown",
   "id": "89bd1405-fa38-4024-9232-29f91120b077",
   "metadata": {},
   "source": [
    "__Below are a few examples of evaluating arithmetic expressions in Python__"
   ]
  },
  {
   "cell_type": "code",
   "execution_count": 4,
   "id": "4b443652-68b8-4300-887e-c02470c5ec0f",
   "metadata": {
    "tags": []
   },
   "outputs": [
    {
     "data": {
      "text/plain": [
       "17"
      ]
     },
     "execution_count": 4,
     "metadata": {},
     "output_type": "execute_result"
    }
   ],
   "source": [
    "# This a simple arithmetic expression to mutiply then add integers\n",
    "\n",
    "(3*4)+5"
   ]
  },
  {
   "cell_type": "code",
   "execution_count": 8,
   "id": "7e366fd1-c660-4ecc-ab0a-11731f66c086",
   "metadata": {
    "tags": []
   },
   "outputs": [
    {
     "name": "stdout",
     "output_type": "stream",
     "text": [
      "3:20\n"
     ]
    }
   ],
   "source": [
    "# This will convert 200 minutes to hours\n",
    "\n",
    "conversion = 200\n",
    "\n",
    "hours = conversion // 60\n",
    "\n",
    "minutes = conversion % 60\n",
    "\n",
    "time = \"{}:{}\".format(hours, minutes)\n",
    "\n",
    "print(time)"
   ]
  },
  {
   "cell_type": "markdown",
   "id": "6c99dfb2-78d5-4253-81bc-a29e1bc3ac26",
   "metadata": {},
   "source": [
    "## Author\n",
    "\n",
    "Brian Tomassoni"
   ]
  }
 ],
 "metadata": {
  "kernelspec": {
   "display_name": "Python",
   "language": "python",
   "name": "conda-env-python-py"
  },
  "language_info": {
   "codemirror_mode": {
    "name": "ipython",
    "version": 3
   },
   "file_extension": ".py",
   "mimetype": "text/x-python",
   "name": "python",
   "nbconvert_exporter": "python",
   "pygments_lexer": "ipython3",
   "version": "3.7.12"
  }
 },
 "nbformat": 4,
 "nbformat_minor": 5
}
